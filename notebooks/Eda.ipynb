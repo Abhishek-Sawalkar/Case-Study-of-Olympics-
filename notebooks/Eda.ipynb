{
 "metadata": {
  "language_info": {
   "codemirror_mode": {
    "name": "ipython",
    "version": 3
   },
   "file_extension": ".py",
   "mimetype": "text/x-python",
   "name": "python",
   "nbconvert_exporter": "python",
   "pygments_lexer": "ipython3",
   "version": "3.7.10"
  },
  "orig_nbformat": 2,
  "kernelspec": {
   "name": "python3710jvsc74a57bd098b0a9b7b4eaaa670588a142fd0a9b87eaafe866f1db4228be72b4211d12040f",
   "display_name": "Python 3.7.10 64-bit ('conda': virtualenv)"
  }
 },
 "nbformat": 4,
 "nbformat_minor": 2,
 "cells": [
  {
   "source": [
    "### Converting raw data to processed data"
   ],
   "cell_type": "markdown",
   "metadata": {}
  },
  {
   "cell_type": "code",
   "execution_count": 106,
   "metadata": {},
   "outputs": [
    {
     "output_type": "stream",
     "name": "stdout",
     "text": [
      "    year country_code  gold_medal  silver_medal  bronze_medal  total\n0   1948          ARG           3             8             1     12\n1   1948          AUS           2             9             5     16\n2   1948          AUT           2             3             7     12\n3   1948          BEL           6             6             8     20\n4   1948          BRA           0             0            12     12\n..   ...          ...         ...           ...           ...    ...\n88  2020          UGA           2             1             1      4\n89  2020          UKR           1             7            21     29\n90  2020          USA         112           108            75    295\n91  2020          UZB           3             0             2      5\n92  2020          VEN           1             3             0      4\n\n[1404 rows x 6 columns]\n"
     ]
    }
   ],
   "source": [
    "import pandas as pd \n",
    "import numpy as np \n",
    "import os\n",
    "\n",
    "from utils import * \n",
    "\n",
    "def forecasting():\n",
    "\n",
    "    # reading data\n",
    "    df_2012_summer = pd.DataFrame(pd.read_csv(os.path.join(\"/kaggle\", Y_2012, \"summer.csv\")))\n",
    "    df_2012_winter = pd.DataFrame(pd.read_csv(os.path.join(\"/kaggle\", Y_2012, \"winter.csv\")))\n",
    "    df_2012 = pd.concat([df_2012_summer, df_2012_winter])\n",
    "    df_2012 = df_2012.drop('Athlete', axis=1)\n",
    "    df_2016 = pd.DataFrame(pd.read_csv(os.path.join(\"/kaggle\", Y_2016, \"athletes.csv\")))\n",
    "    df_2020 = pd.DataFrame(pd.read_csv(os.path.join(\"/kaggle\", Y_2020, \"medals.csv\")))\n",
    "\n",
    "    # 2020 data changes\n",
    "    df_2020['gold_medal']=df_2020['medal_code'].apply(lambda x: 1 if x==1 else 0)\n",
    "    df_2020['silver_medal']=df_2020['medal_code'].apply(lambda x: 1 if x==2 else 0)\n",
    "    df_2020['bronze_medal']=df_2020['medal_code'].apply(lambda x: 1 if x==3 else 0)\n",
    "    df_2020 = df_2020[['country_code', 'gold_medal', 'silver_medal', 'bronze_medal']]\n",
    "    df_2020 = df_2020.groupby('country_code').agg(sum)\n",
    "    df_2020 = df_2020.reset_index(drop=False)\n",
    "    df_2020.insert(0, 'year', 2020)\n",
    "    df_2020['total'] = df_2020['gold_medal'] + df_2020['silver_medal'] + df_2020['bronze_medal']\n",
    "\n",
    "    # 2016 data changes\n",
    "    df_2016 = df_2016.rename({'nationality': 'country_code', 'gold': 'gold_medal', 'silver': 'silver_medal', 'bronze': 'bronze_medal'}, axis=1)\n",
    "    df_2016 = df_2016[['country_code', 'gold_medal', 'silver_medal', 'bronze_medal']]\n",
    "    df_2016 = df_2016.groupby('country_code').agg(sum)\n",
    "    df_2016 = df_2016.reset_index(drop=False)\n",
    "    df_2016.insert(0, 'year', 2016)\n",
    "    df_2016['total'] = df_2016['gold_medal'] + df_2016['silver_medal'] + df_2016['bronze_medal']\n",
    "\n",
    "    # 2012 data changes\n",
    "    years = df_2012[df_2012.Year >= 1948].Year.unique()\n",
    "\n",
    "    df_2012['gold_medal']=df_2012['Medal'].apply(lambda x: 1 if x=='Gold' else 0)\n",
    "    df_2012['silver_medal']=df_2012['Medal'].apply(lambda x: 1 if x=='Silver' else 0)\n",
    "    df_2012['bronze_medal']=df_2012['Medal'].apply(lambda x: 1 if x=='Bronze' else 0)\n",
    "    df_2012 = df_2012.rename({'Country': 'country_code'}, axis=1)\n",
    "    df_2012 = df_2012[['Year', 'country_code', 'gold_medal', 'silver_medal', 'bronze_medal']]\n",
    "\n",
    "    df_temp= pd.DataFrame()\n",
    "    for year in years:\n",
    "        temp = df_2012[df_2012.Year == year][['country_code', 'gold_medal', 'silver_medal', 'bronze_medal']]\n",
    "        temp = temp.groupby('country_code').agg(sum)\n",
    "        temp = temp.reset_index(drop=False)\n",
    "        temp.insert(0, 'year', year)\n",
    "        temp['total'] = temp['gold_medal'] + temp['silver_medal'] + temp['bronze_medal']\n",
    "        df_temp = pd.concat([df_temp, temp])\n",
    "\n",
    "    # concatinating all the dataframes\n",
    "    df = pd.concat([df_temp, df_2016, df_2020], axis=0)\n",
    "    \n",
    "    return df\n",
    "\n",
    "if __name__ == \"__main__\":\n",
    "    print(forecasting())"
   ]
  },
  {
   "cell_type": "code",
   "execution_count": null,
   "metadata": {},
   "outputs": [],
   "source": []
  }
 ]
}