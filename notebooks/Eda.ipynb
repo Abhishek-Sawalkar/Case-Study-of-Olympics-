{
 "metadata": {
  "language_info": {
   "codemirror_mode": {
    "name": "ipython",
    "version": 3
   },
   "file_extension": ".py",
   "mimetype": "text/x-python",
   "name": "python",
   "nbconvert_exporter": "python",
   "pygments_lexer": "ipython3",
   "version": "3.7.10"
  },
  "orig_nbformat": 2,
  "kernelspec": {
   "name": "python3710jvsc74a57bd098b0a9b7b4eaaa670588a142fd0a9b87eaafe866f1db4228be72b4211d12040f",
   "display_name": "Python 3.7.10 64-bit ('base': conda)"
  }
 },
 "nbformat": 4,
 "nbformat_minor": 2,
 "cells": [
  {
   "source": [
    "### Converting raw data to processed data"
   ],
   "cell_type": "markdown",
   "metadata": {}
  },
  {
   "cell_type": "code",
   "execution_count": 86,
   "metadata": {},
   "outputs": [
    {
     "output_type": "stream",
     "name": "stdout",
     "text": [
      "    year country_code  gold_medal  silver_medal  bronze_medal  total\n0   1948          ARG           3             8             1     12\n1   1948          AUS           2             9             5     16\n2   1948          AUT           2             3             7     12\n3   1948          BEL           6             6             8     20\n4   1948          BRA           0             0            12     12\n..   ...          ...         ...           ...           ...    ...\n88  2020          UGA           2             1             1      4\n89  2020          UKR           1             7            21     29\n90  2020          USA         112           108            75    295\n91  2020          UZB           3             0             2      5\n92  2020          VEN           1             3             0      4\n\n[1404 rows x 6 columns]\n"
     ]
    }
   ],
   "source": [
    "import pandas as pd \n",
    "import numpy as np \n",
    "import os\n",
    "\n",
    "from utils import * \n",
    "\n",
    "def forecasting():\n",
    "\n",
    "    # reading data\n",
    "    df_2012_summer = pd.DataFrame(pd.read_csv(os.path.join(\"/kaggle\", Y_2012, \"summer.csv\")))\n",
    "    df_2012_winter = pd.DataFrame(pd.read_csv(os.path.join(\"/kaggle\", Y_2012, \"winter.csv\")))\n",
    "    df_2012 = pd.concat([df_2012_summer, df_2012_winter])\n",
    "    df_2012 = df_2012.drop('Athlete', axis=1)\n",
    "    df_2016 = pd.DataFrame(pd.read_csv(os.path.join(\"/kaggle\", Y_2016, \"athletes.csv\")))\n",
    "    df_2020 = pd.DataFrame(pd.read_csv(os.path.join(\"/kaggle\", Y_2020, \"medals.csv\")))\n",
    "\n",
    "    # 2020 data changes\n",
    "    df_2020['gold_medal']=df_2020['medal_code'].apply(lambda x: 1 if x==1 else 0)\n",
    "    df_2020['silver_medal']=df_2020['medal_code'].apply(lambda x: 1 if x==2 else 0)\n",
    "    df_2020['bronze_medal']=df_2020['medal_code'].apply(lambda x: 1 if x==3 else 0)\n",
    "    df_2020 = df_2020[['country_code', 'gold_medal', 'silver_medal', 'bronze_medal']]\n",
    "    df_2020 = df_2020.groupby('country_code').agg(sum)\n",
    "    df_2020 = df_2020.reset_index(drop=False)\n",
    "    df_2020.insert(0, 'year', 2020)\n",
    "    df_2020['total'] = df_2020['gold_medal'] + df_2020['silver_medal'] + df_2020['bronze_medal']\n",
    "\n",
    "    # 2016 data changes\n",
    "    df_2016 = df_2016.rename({'nationality': 'country_code', 'gold': 'gold_medal', 'silver': 'silver_medal', 'bronze': 'bronze_medal'}, axis=1)\n",
    "    df_2016 = df_2016[['country_code', 'gold_medal', 'silver_medal', 'bronze_medal']]\n",
    "    df_2016 = df_2016.groupby('country_code').agg(sum)\n",
    "    df_2016 = df_2016.reset_index(drop=False)\n",
    "    df_2016.insert(0, 'year', 2016)\n",
    "    df_2016['total'] = df_2016['gold_medal'] + df_2016['silver_medal'] + df_2016['bronze_medal']\n",
    "\n",
    "    # 2012 data changes\n",
    "    years = df_2012[df_2012.Year >= 1948].Year.unique()\n",
    "\n",
    "    df_2012['gold_medal']=df_2012['Medal'].apply(lambda x: 1 if x=='Gold' else 0)\n",
    "    df_2012['silver_medal']=df_2012['Medal'].apply(lambda x: 1 if x=='Silver' else 0)\n",
    "    df_2012['bronze_medal']=df_2012['Medal'].apply(lambda x: 1 if x=='Bronze' else 0)\n",
    "    df_2012 = df_2012.rename({'Country': 'country_code'}, axis=1)\n",
    "    df_2012 = df_2012[['Year', 'country_code', 'gold_medal', 'silver_medal', 'bronze_medal']]\n",
    "\n",
    "    df_temp= pd.DataFrame()\n",
    "    for year in years:\n",
    "        temp = df_2012[df_2012.Year == year][['country_code', 'gold_medal', 'silver_medal', 'bronze_medal']]\n",
    "        temp = temp.groupby('country_code').agg(sum)\n",
    "        temp = temp.reset_index(drop=False)\n",
    "        temp.insert(0, 'year', year)\n",
    "        temp['total'] = temp['gold_medal'] + temp['silver_medal'] + temp['bronze_medal']\n",
    "        df_temp = pd.concat([df_temp, temp])\n",
    "\n",
    "    # concatinating all the dataframes\n",
    "    df = pd.concat([df_temp, df_2016, df_2020], axis=0)\n",
    "    \n",
    "    return df\n",
    "\n",
    "if __name__ == \"__main__\":\n",
    "    print(forecasting())"
   ]
  },
  {
   "source": [
    "### Top 150 countries"
   ],
   "cell_type": "markdown",
   "metadata": {}
  },
  {
   "cell_type": "code",
   "execution_count": 87,
   "metadata": {},
   "outputs": [],
   "source": [
    "df = pd.DataFrame(forecasting())\n",
    "\n",
    "temp = df.groupby('country_code').agg(sum)\n",
    "temp = temp[['gold_medal', 'silver_medal', 'bronze_medal', 'total']]\n",
    "temp.head()\n",
    "\n",
    "temp = temp.sort_values(['gold_medal', 'silver_medal', 'bronze_medal'], ascending= False)\n",
    "temp = temp.reset_index(drop=False)\n",
    "\n",
    "countries_to_consider = temp['country_code'].head(150)\n",
    "countries_to_consider =list(countries_to_consider)\n",
    "countries_to_consider\n",
    "df = df[df['country_code'].isin(countries_to_consider)]"
   ]
  },
  {
   "source": [
    "## Visualization on world map"
   ],
   "cell_type": "markdown",
   "metadata": {}
  },
  {
   "cell_type": "code",
   "execution_count": 88,
   "metadata": {},
   "outputs": [
    {
     "output_type": "execute_result",
     "data": {
      "text/plain": [
       "      id                  name  \\\n",
       "0    AFG           Afghanistan   \n",
       "1    AGO                Angola   \n",
       "2    ALB               Albania   \n",
       "3    ARE  United Arab Emirates   \n",
       "4    ARG             Argentina   \n",
       "..   ...                   ...   \n",
       "172  PSE             West Bank   \n",
       "173  YEM                 Yemen   \n",
       "174  RSA          South Africa   \n",
       "175  ZMB                Zambia   \n",
       "176  ZWE              Zimbabwe   \n",
       "\n",
       "                                              geometry  \n",
       "0    POLYGON ((61.21082 35.65007, 62.23065 35.27066...  \n",
       "1    MULTIPOLYGON (((16.32653 -5.87747, 16.57318 -6...  \n",
       "2    POLYGON ((20.59025 41.85540, 20.46317 41.51509...  \n",
       "3    POLYGON ((51.57952 24.24550, 51.75744 24.29407...  \n",
       "4    MULTIPOLYGON (((-65.50000 -55.20000, -66.45000...  \n",
       "..                                                 ...  \n",
       "172  POLYGON ((35.54566 32.39399, 35.54525 31.78251...  \n",
       "173  POLYGON ((53.10857 16.65105, 52.38521 16.38241...  \n",
       "174  POLYGON ((31.52100 -29.25739, 31.32556 -29.401...  \n",
       "175  POLYGON ((32.75937 -9.23060, 33.23139 -9.67672...  \n",
       "176  POLYGON ((31.19141 -22.25151, 30.65986 -22.151...  \n",
       "\n",
       "[177 rows x 3 columns]"
      ],
      "text/html": "<div>\n<style scoped>\n    .dataframe tbody tr th:only-of-type {\n        vertical-align: middle;\n    }\n\n    .dataframe tbody tr th {\n        vertical-align: top;\n    }\n\n    .dataframe thead th {\n        text-align: right;\n    }\n</style>\n<table border=\"1\" class=\"dataframe\">\n  <thead>\n    <tr style=\"text-align: right;\">\n      <th></th>\n      <th>id</th>\n      <th>name</th>\n      <th>geometry</th>\n    </tr>\n  </thead>\n  <tbody>\n    <tr>\n      <th>0</th>\n      <td>AFG</td>\n      <td>Afghanistan</td>\n      <td>POLYGON ((61.21082 35.65007, 62.23065 35.27066...</td>\n    </tr>\n    <tr>\n      <th>1</th>\n      <td>AGO</td>\n      <td>Angola</td>\n      <td>MULTIPOLYGON (((16.32653 -5.87747, 16.57318 -6...</td>\n    </tr>\n    <tr>\n      <th>2</th>\n      <td>ALB</td>\n      <td>Albania</td>\n      <td>POLYGON ((20.59025 41.85540, 20.46317 41.51509...</td>\n    </tr>\n    <tr>\n      <th>3</th>\n      <td>ARE</td>\n      <td>United Arab Emirates</td>\n      <td>POLYGON ((51.57952 24.24550, 51.75744 24.29407...</td>\n    </tr>\n    <tr>\n      <th>4</th>\n      <td>ARG</td>\n      <td>Argentina</td>\n      <td>MULTIPOLYGON (((-65.50000 -55.20000, -66.45000...</td>\n    </tr>\n    <tr>\n      <th>...</th>\n      <td>...</td>\n      <td>...</td>\n      <td>...</td>\n    </tr>\n    <tr>\n      <th>172</th>\n      <td>PSE</td>\n      <td>West Bank</td>\n      <td>POLYGON ((35.54566 32.39399, 35.54525 31.78251...</td>\n    </tr>\n    <tr>\n      <th>173</th>\n      <td>YEM</td>\n      <td>Yemen</td>\n      <td>POLYGON ((53.10857 16.65105, 52.38521 16.38241...</td>\n    </tr>\n    <tr>\n      <th>174</th>\n      <td>RSA</td>\n      <td>South Africa</td>\n      <td>POLYGON ((31.52100 -29.25739, 31.32556 -29.401...</td>\n    </tr>\n    <tr>\n      <th>175</th>\n      <td>ZMB</td>\n      <td>Zambia</td>\n      <td>POLYGON ((32.75937 -9.23060, 33.23139 -9.67672...</td>\n    </tr>\n    <tr>\n      <th>176</th>\n      <td>ZWE</td>\n      <td>Zimbabwe</td>\n      <td>POLYGON ((31.19141 -22.25151, 30.65986 -22.151...</td>\n    </tr>\n  </tbody>\n</table>\n<p>177 rows × 3 columns</p>\n</div>"
     },
     "metadata": {},
     "execution_count": 88
    }
   ],
   "source": [
    "import folium\n",
    "import geopandas as gpd\n",
    "import pandas as pd\n",
    "\n",
    "url = (\n",
    "    \"https://raw.githubusercontent.com/python-visualization/folium/master/examples/data\"\n",
    ")\n",
    "country_shapes = f\"{url}/world-countries.json\"\n",
    "global_polygon = gpd.read_file(country_shapes)\n",
    "\n",
    "global_polygon.id =  global_polygon.id.apply(lambda x: 'DEN' if x=='DNK' else x)\n",
    "global_polygon.id =  global_polygon.id.apply(lambda x: 'IRI' if x=='IRN' else x)\n",
    "global_polygon.id =  global_polygon.id.apply(lambda x: 'NED' if x=='NLD' else x)\n",
    "global_polygon.id =  global_polygon.id.apply(lambda x: 'POR' if x=='PRT' else x)\n",
    "global_polygon.id =  global_polygon.id.apply(lambda x: 'RSA' if x=='ZAF' else x)\n",
    "\n",
    "global_polygon"
   ]
  },
  {
   "cell_type": "code",
   "execution_count": 89,
   "metadata": {},
   "outputs": [],
   "source": [
    "df['id'] = df['country_code']\n",
    "df = df.merge(global_polygon, on='id', how='left')"
   ]
  },
  {
   "cell_type": "code",
   "execution_count": 90,
   "metadata": {},
   "outputs": [
    {
     "output_type": "execute_result",
     "data": {
      "text/plain": [
       "      year country_code  gold_medal  silver_medal  bronze_medal  total   id  \\\n",
       "15    1948          IRI           0             0             1      1  IRI   \n",
       "55    1952          IRI           0             3             4      7  IRI   \n",
       "98    1956          IRI           2             2             1      5  IRI   \n",
       "139   1960          IRI           0             1             3      4  IRI   \n",
       "181   1964          IRI           0             0             2      2  IRI   \n",
       "226   1968          IRI           2             1             2      5  IRI   \n",
       "272   1972          IRI           0             2             1      3  IRI   \n",
       "315   1976          IRI           0             1             1      2  IRI   \n",
       "457   1988          IRI           0             1             0      1  IRI   \n",
       "514   1992          IRI           0             1             2      3  IRI   \n",
       "584   1996          IRI           1             1             1      3  IRI   \n",
       "665   2000          IRI           3             0             1      4  IRI   \n",
       "745   2004          IRI           2             2             2      6  IRI   \n",
       "821   2008          IRI           1             0             1      2  IRI   \n",
       "910   2012          IRI           5             6             2     13  IRI   \n",
       "1158  2016          IRI           3             1             4      8  IRI   \n",
       "1279  2020          IRI           3             2             2      7  IRI   \n",
       "\n",
       "      name                                           geometry  \n",
       "15    Iran  POLYGON ((53.92160 37.19892, 54.80030 37.39242...  \n",
       "55    Iran  POLYGON ((53.92160 37.19892, 54.80030 37.39242...  \n",
       "98    Iran  POLYGON ((53.92160 37.19892, 54.80030 37.39242...  \n",
       "139   Iran  POLYGON ((53.92160 37.19892, 54.80030 37.39242...  \n",
       "181   Iran  POLYGON ((53.92160 37.19892, 54.80030 37.39242...  \n",
       "226   Iran  POLYGON ((53.92160 37.19892, 54.80030 37.39242...  \n",
       "272   Iran  POLYGON ((53.92160 37.19892, 54.80030 37.39242...  \n",
       "315   Iran  POLYGON ((53.92160 37.19892, 54.80030 37.39242...  \n",
       "457   Iran  POLYGON ((53.92160 37.19892, 54.80030 37.39242...  \n",
       "514   Iran  POLYGON ((53.92160 37.19892, 54.80030 37.39242...  \n",
       "584   Iran  POLYGON ((53.92160 37.19892, 54.80030 37.39242...  \n",
       "665   Iran  POLYGON ((53.92160 37.19892, 54.80030 37.39242...  \n",
       "745   Iran  POLYGON ((53.92160 37.19892, 54.80030 37.39242...  \n",
       "821   Iran  POLYGON ((53.92160 37.19892, 54.80030 37.39242...  \n",
       "910   Iran  POLYGON ((53.92160 37.19892, 54.80030 37.39242...  \n",
       "1158  Iran  POLYGON ((53.92160 37.19892, 54.80030 37.39242...  \n",
       "1279  Iran  POLYGON ((53.92160 37.19892, 54.80030 37.39242...  "
      ],
      "text/html": "<div>\n<style scoped>\n    .dataframe tbody tr th:only-of-type {\n        vertical-align: middle;\n    }\n\n    .dataframe tbody tr th {\n        vertical-align: top;\n    }\n\n    .dataframe thead th {\n        text-align: right;\n    }\n</style>\n<table border=\"1\" class=\"dataframe\">\n  <thead>\n    <tr style=\"text-align: right;\">\n      <th></th>\n      <th>year</th>\n      <th>country_code</th>\n      <th>gold_medal</th>\n      <th>silver_medal</th>\n      <th>bronze_medal</th>\n      <th>total</th>\n      <th>id</th>\n      <th>name</th>\n      <th>geometry</th>\n    </tr>\n  </thead>\n  <tbody>\n    <tr>\n      <th>15</th>\n      <td>1948</td>\n      <td>IRI</td>\n      <td>0</td>\n      <td>0</td>\n      <td>1</td>\n      <td>1</td>\n      <td>IRI</td>\n      <td>Iran</td>\n      <td>POLYGON ((53.92160 37.19892, 54.80030 37.39242...</td>\n    </tr>\n    <tr>\n      <th>55</th>\n      <td>1952</td>\n      <td>IRI</td>\n      <td>0</td>\n      <td>3</td>\n      <td>4</td>\n      <td>7</td>\n      <td>IRI</td>\n      <td>Iran</td>\n      <td>POLYGON ((53.92160 37.19892, 54.80030 37.39242...</td>\n    </tr>\n    <tr>\n      <th>98</th>\n      <td>1956</td>\n      <td>IRI</td>\n      <td>2</td>\n      <td>2</td>\n      <td>1</td>\n      <td>5</td>\n      <td>IRI</td>\n      <td>Iran</td>\n      <td>POLYGON ((53.92160 37.19892, 54.80030 37.39242...</td>\n    </tr>\n    <tr>\n      <th>139</th>\n      <td>1960</td>\n      <td>IRI</td>\n      <td>0</td>\n      <td>1</td>\n      <td>3</td>\n      <td>4</td>\n      <td>IRI</td>\n      <td>Iran</td>\n      <td>POLYGON ((53.92160 37.19892, 54.80030 37.39242...</td>\n    </tr>\n    <tr>\n      <th>181</th>\n      <td>1964</td>\n      <td>IRI</td>\n      <td>0</td>\n      <td>0</td>\n      <td>2</td>\n      <td>2</td>\n      <td>IRI</td>\n      <td>Iran</td>\n      <td>POLYGON ((53.92160 37.19892, 54.80030 37.39242...</td>\n    </tr>\n    <tr>\n      <th>226</th>\n      <td>1968</td>\n      <td>IRI</td>\n      <td>2</td>\n      <td>1</td>\n      <td>2</td>\n      <td>5</td>\n      <td>IRI</td>\n      <td>Iran</td>\n      <td>POLYGON ((53.92160 37.19892, 54.80030 37.39242...</td>\n    </tr>\n    <tr>\n      <th>272</th>\n      <td>1972</td>\n      <td>IRI</td>\n      <td>0</td>\n      <td>2</td>\n      <td>1</td>\n      <td>3</td>\n      <td>IRI</td>\n      <td>Iran</td>\n      <td>POLYGON ((53.92160 37.19892, 54.80030 37.39242...</td>\n    </tr>\n    <tr>\n      <th>315</th>\n      <td>1976</td>\n      <td>IRI</td>\n      <td>0</td>\n      <td>1</td>\n      <td>1</td>\n      <td>2</td>\n      <td>IRI</td>\n      <td>Iran</td>\n      <td>POLYGON ((53.92160 37.19892, 54.80030 37.39242...</td>\n    </tr>\n    <tr>\n      <th>457</th>\n      <td>1988</td>\n      <td>IRI</td>\n      <td>0</td>\n      <td>1</td>\n      <td>0</td>\n      <td>1</td>\n      <td>IRI</td>\n      <td>Iran</td>\n      <td>POLYGON ((53.92160 37.19892, 54.80030 37.39242...</td>\n    </tr>\n    <tr>\n      <th>514</th>\n      <td>1992</td>\n      <td>IRI</td>\n      <td>0</td>\n      <td>1</td>\n      <td>2</td>\n      <td>3</td>\n      <td>IRI</td>\n      <td>Iran</td>\n      <td>POLYGON ((53.92160 37.19892, 54.80030 37.39242...</td>\n    </tr>\n    <tr>\n      <th>584</th>\n      <td>1996</td>\n      <td>IRI</td>\n      <td>1</td>\n      <td>1</td>\n      <td>1</td>\n      <td>3</td>\n      <td>IRI</td>\n      <td>Iran</td>\n      <td>POLYGON ((53.92160 37.19892, 54.80030 37.39242...</td>\n    </tr>\n    <tr>\n      <th>665</th>\n      <td>2000</td>\n      <td>IRI</td>\n      <td>3</td>\n      <td>0</td>\n      <td>1</td>\n      <td>4</td>\n      <td>IRI</td>\n      <td>Iran</td>\n      <td>POLYGON ((53.92160 37.19892, 54.80030 37.39242...</td>\n    </tr>\n    <tr>\n      <th>745</th>\n      <td>2004</td>\n      <td>IRI</td>\n      <td>2</td>\n      <td>2</td>\n      <td>2</td>\n      <td>6</td>\n      <td>IRI</td>\n      <td>Iran</td>\n      <td>POLYGON ((53.92160 37.19892, 54.80030 37.39242...</td>\n    </tr>\n    <tr>\n      <th>821</th>\n      <td>2008</td>\n      <td>IRI</td>\n      <td>1</td>\n      <td>0</td>\n      <td>1</td>\n      <td>2</td>\n      <td>IRI</td>\n      <td>Iran</td>\n      <td>POLYGON ((53.92160 37.19892, 54.80030 37.39242...</td>\n    </tr>\n    <tr>\n      <th>910</th>\n      <td>2012</td>\n      <td>IRI</td>\n      <td>5</td>\n      <td>6</td>\n      <td>2</td>\n      <td>13</td>\n      <td>IRI</td>\n      <td>Iran</td>\n      <td>POLYGON ((53.92160 37.19892, 54.80030 37.39242...</td>\n    </tr>\n    <tr>\n      <th>1158</th>\n      <td>2016</td>\n      <td>IRI</td>\n      <td>3</td>\n      <td>1</td>\n      <td>4</td>\n      <td>8</td>\n      <td>IRI</td>\n      <td>Iran</td>\n      <td>POLYGON ((53.92160 37.19892, 54.80030 37.39242...</td>\n    </tr>\n    <tr>\n      <th>1279</th>\n      <td>2020</td>\n      <td>IRI</td>\n      <td>3</td>\n      <td>2</td>\n      <td>2</td>\n      <td>7</td>\n      <td>IRI</td>\n      <td>Iran</td>\n      <td>POLYGON ((53.92160 37.19892, 54.80030 37.39242...</td>\n    </tr>\n  </tbody>\n</table>\n</div>"
     },
     "metadata": {},
     "execution_count": 90
    }
   ],
   "source": [
    "df[df.country_code == 'IRI']"
   ]
  },
  {
   "cell_type": "code",
   "execution_count": 95,
   "metadata": {},
   "outputs": [
    {
     "output_type": "execute_result",
     "data": {
      "text/plain": [
       "SUI    25\n",
       "BUL    20\n",
       "GER    15\n",
       "GRE    15\n",
       "YUG    13\n",
       "       ..\n",
       "SCG     1\n",
       "IOP     1\n",
       "EUN     1\n",
       "BWI     1\n",
       "ROC     1\n",
       "Name: country_code, Length: 61, dtype: int64"
      ]
     },
     "metadata": {},
     "execution_count": 95
    }
   ],
   "source": [
    "df[df.geometry == None]['country_code'].value_counts()"
   ]
  },
  {
   "cell_type": "code",
   "execution_count": 81,
   "metadata": {},
   "outputs": [
    {
     "output_type": "execute_result",
     "data": {
      "text/plain": [
       "      id          name                                           geometry\n",
       "174  ZAF  South Africa  POLYGON ((31.52100 -29.25739, 31.32556 -29.401..."
      ],
      "text/html": "<div>\n<style scoped>\n    .dataframe tbody tr th:only-of-type {\n        vertical-align: middle;\n    }\n\n    .dataframe tbody tr th {\n        vertical-align: top;\n    }\n\n    .dataframe thead th {\n        text-align: right;\n    }\n</style>\n<table border=\"1\" class=\"dataframe\">\n  <thead>\n    <tr style=\"text-align: right;\">\n      <th></th>\n      <th>id</th>\n      <th>name</th>\n      <th>geometry</th>\n    </tr>\n  </thead>\n  <tbody>\n    <tr>\n      <th>174</th>\n      <td>ZAF</td>\n      <td>South Africa</td>\n      <td>POLYGON ((31.52100 -29.25739, 31.32556 -29.401...</td>\n    </tr>\n  </tbody>\n</table>\n</div>"
     },
     "metadata": {},
     "execution_count": 81
    }
   ],
   "source": [
    "global_polygon[global_polygon.name =='South Africa']"
   ]
  },
  {
   "cell_type": "code",
   "execution_count": 64,
   "metadata": {},
   "outputs": [],
   "source": [
    "# df.to_csv('df.csv')"
   ]
  },
  {
   "cell_type": "code",
   "execution_count": 8,
   "metadata": {},
   "outputs": [
    {
     "output_type": "execute_result",
     "data": {
      "text/plain": [
       "    year country_code  gold_medal  silver_medal  bronze_medal  total\n",
       "0   1948          ARG           3             8             1     12\n",
       "1   1948          AUS           2             9             5     16\n",
       "2   1948          AUT           2             3             7     12\n",
       "3   1948          BEL           6             6             8     20\n",
       "4   1948          BRA           0             0            12     12\n",
       "..   ...          ...         ...           ...           ...    ...\n",
       "88  2020          UGA           2             1             1      4\n",
       "89  2020          UKR           1             7            21     29\n",
       "90  2020          USA         112           108            75    295\n",
       "91  2020          UZB           3             0             2      5\n",
       "92  2020          VEN           1             3             0      4\n",
       "\n",
       "[1331 rows x 6 columns]"
      ],
      "text/html": "<div>\n<style scoped>\n    .dataframe tbody tr th:only-of-type {\n        vertical-align: middle;\n    }\n\n    .dataframe tbody tr th {\n        vertical-align: top;\n    }\n\n    .dataframe thead th {\n        text-align: right;\n    }\n</style>\n<table border=\"1\" class=\"dataframe\">\n  <thead>\n    <tr style=\"text-align: right;\">\n      <th></th>\n      <th>year</th>\n      <th>country_code</th>\n      <th>gold_medal</th>\n      <th>silver_medal</th>\n      <th>bronze_medal</th>\n      <th>total</th>\n    </tr>\n  </thead>\n  <tbody>\n    <tr>\n      <th>0</th>\n      <td>1948</td>\n      <td>ARG</td>\n      <td>3</td>\n      <td>8</td>\n      <td>1</td>\n      <td>12</td>\n    </tr>\n    <tr>\n      <th>1</th>\n      <td>1948</td>\n      <td>AUS</td>\n      <td>2</td>\n      <td>9</td>\n      <td>5</td>\n      <td>16</td>\n    </tr>\n    <tr>\n      <th>2</th>\n      <td>1948</td>\n      <td>AUT</td>\n      <td>2</td>\n      <td>3</td>\n      <td>7</td>\n      <td>12</td>\n    </tr>\n    <tr>\n      <th>3</th>\n      <td>1948</td>\n      <td>BEL</td>\n      <td>6</td>\n      <td>6</td>\n      <td>8</td>\n      <td>20</td>\n    </tr>\n    <tr>\n      <th>4</th>\n      <td>1948</td>\n      <td>BRA</td>\n      <td>0</td>\n      <td>0</td>\n      <td>12</td>\n      <td>12</td>\n    </tr>\n    <tr>\n      <th>...</th>\n      <td>...</td>\n      <td>...</td>\n      <td>...</td>\n      <td>...</td>\n      <td>...</td>\n      <td>...</td>\n    </tr>\n    <tr>\n      <th>88</th>\n      <td>2020</td>\n      <td>UGA</td>\n      <td>2</td>\n      <td>1</td>\n      <td>1</td>\n      <td>4</td>\n    </tr>\n    <tr>\n      <th>89</th>\n      <td>2020</td>\n      <td>UKR</td>\n      <td>1</td>\n      <td>7</td>\n      <td>21</td>\n      <td>29</td>\n    </tr>\n    <tr>\n      <th>90</th>\n      <td>2020</td>\n      <td>USA</td>\n      <td>112</td>\n      <td>108</td>\n      <td>75</td>\n      <td>295</td>\n    </tr>\n    <tr>\n      <th>91</th>\n      <td>2020</td>\n      <td>UZB</td>\n      <td>3</td>\n      <td>0</td>\n      <td>2</td>\n      <td>5</td>\n    </tr>\n    <tr>\n      <th>92</th>\n      <td>2020</td>\n      <td>VEN</td>\n      <td>1</td>\n      <td>3</td>\n      <td>0</td>\n      <td>4</td>\n    </tr>\n  </tbody>\n</table>\n<p>1331 rows × 6 columns</p>\n</div>"
     },
     "metadata": {},
     "execution_count": 8
    }
   ],
   "source": [
    "\n",
    "\n",
    "# m = folium.Map(location=[48, -102], zoom_start=3)\n",
    "\n",
    "# folium.Choropleth(\n",
    "#     geo_data=state_geo,\n",
    "#     name=\"choropleth\",\n",
    "#     data=state_data,\n",
    "#     columns=[\"State\", \"Unemployment\"],\n",
    "#     key_on=\"feature.id\",\n",
    "#     fill_color=\"YlGn\",\n",
    "#     fill_opacity=0.9,\n",
    "#     line_opacity=0.9,\n",
    "#     legend_name=\"Unemployment Rate (%)\",\n",
    "# ).add_to(m)\n",
    "\n",
    "# folium.LayerControl().add_to(m)\n",
    "\n",
    "# m"
   ]
  },
  {
   "cell_type": "code",
   "execution_count": 82,
   "metadata": {},
   "outputs": [
    {
     "output_type": "execute_result",
     "data": {
      "text/plain": [
       "<function gc.collect(generation=2)>"
      ]
     },
     "metadata": {},
     "execution_count": 82
    }
   ],
   "source": [
    "# import gc\n",
    "\n",
    "# del df\n",
    "# gc.collect"
   ]
  },
  {
   "cell_type": "code",
   "execution_count": null,
   "metadata": {},
   "outputs": [],
   "source": []
  }
 ]
}