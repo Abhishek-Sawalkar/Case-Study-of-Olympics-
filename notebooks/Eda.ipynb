{
 "metadata": {
  "language_info": {
   "codemirror_mode": {
    "name": "ipython",
    "version": 3
   },
   "file_extension": ".py",
   "mimetype": "text/x-python",
   "name": "python",
   "nbconvert_exporter": "python",
   "pygments_lexer": "ipython3",
   "version": "3.7.10"
  },
  "orig_nbformat": 2,
  "kernelspec": {
   "name": "python3710jvsc74a57bd098b0a9b7b4eaaa670588a142fd0a9b87eaafe866f1db4228be72b4211d12040f",
   "display_name": "Python 3.7.10 64-bit ('base': conda)"
  }
 },
 "nbformat": 4,
 "nbformat_minor": 2,
 "cells": [
  {
   "source": [
    "### Converting raw data to processed data"
   ],
   "cell_type": "markdown",
   "metadata": {}
  },
  {
   "cell_type": "code",
   "execution_count": 1,
   "metadata": {},
   "outputs": [
    {
     "output_type": "stream",
     "name": "stdout",
     "text": [
      "input/olympic-games , input/d/rio2016/olympic-games, input/tokyo-2020-olympics\n",
      "    year country_code  gold_medal  silver_medal  bronze_medal  total\n",
      "0   1948          ARG           3             8             1     12\n",
      "1   1948          AUS           2             9             5     16\n",
      "2   1948          AUT           2             3             7     12\n",
      "3   1948          BEL           6             6             8     20\n",
      "4   1948          BRA           0             0            12     12\n",
      "..   ...          ...         ...           ...           ...    ...\n",
      "88  2020          UGA           2             1             1      4\n",
      "89  2020          UKR           1             7            21     29\n",
      "90  2020          USA         112           108            75    295\n",
      "91  2020          UZB           3             0             2      5\n",
      "92  2020          VEN           1             3             0      4\n",
      "\n",
      "[1404 rows x 6 columns]\n"
     ]
    }
   ],
   "source": [
    "import pandas as pd \n",
    "import numpy as np \n",
    "import os\n",
    "\n",
    "from utils import * \n",
    "\n",
    "def forecasting():\n",
    "\n",
    "    # reading data\n",
    "    df_2012_summer = pd.DataFrame(pd.read_csv(os.path.join(\"/kaggle\", Y_2012, \"summer.csv\")))\n",
    "    df_2012_winter = pd.DataFrame(pd.read_csv(os.path.join(\"/kaggle\", Y_2012, \"winter.csv\")))\n",
    "    df_2012 = pd.concat([df_2012_summer, df_2012_winter])\n",
    "    df_2012 = df_2012.drop('Athlete', axis=1)\n",
    "    df_2016 = pd.DataFrame(pd.read_csv(os.path.join(\"/kaggle\", Y_2016, \"athletes.csv\")))\n",
    "    df_2020 = pd.DataFrame(pd.read_csv(os.path.join(\"/kaggle\", Y_2020, \"medals.csv\")))\n",
    "\n",
    "    # 2020 data changes\n",
    "    df_2020['gold_medal']=df_2020['medal_code'].apply(lambda x: 1 if x==1 else 0)\n",
    "    df_2020['silver_medal']=df_2020['medal_code'].apply(lambda x: 1 if x==2 else 0)\n",
    "    df_2020['bronze_medal']=df_2020['medal_code'].apply(lambda x: 1 if x==3 else 0)\n",
    "    df_2020 = df_2020[['country_code', 'gold_medal', 'silver_medal', 'bronze_medal']]\n",
    "    df_2020 = df_2020.groupby('country_code').agg(sum)\n",
    "    df_2020 = df_2020.reset_index(drop=False)\n",
    "    df_2020.insert(0, 'year', 2020)\n",
    "    df_2020['total'] = df_2020['gold_medal'] + df_2020['silver_medal'] + df_2020['bronze_medal']\n",
    "\n",
    "    # 2016 data changes\n",
    "    df_2016 = df_2016.rename({'nationality': 'country_code', 'gold': 'gold_medal', 'silver': 'silver_medal', 'bronze': 'bronze_medal'}, axis=1)\n",
    "    df_2016 = df_2016[['country_code', 'gold_medal', 'silver_medal', 'bronze_medal']]\n",
    "    df_2016 = df_2016.groupby('country_code').agg(sum)\n",
    "    df_2016 = df_2016.reset_index(drop=False)\n",
    "    df_2016.insert(0, 'year', 2016)\n",
    "    df_2016['total'] = df_2016['gold_medal'] + df_2016['silver_medal'] + df_2016['bronze_medal']\n",
    "\n",
    "    # 2012 data changes\n",
    "    years = df_2012[df_2012.Year >= 1948].Year.unique()\n",
    "\n",
    "    df_2012['gold_medal']=df_2012['Medal'].apply(lambda x: 1 if x=='Gold' else 0)\n",
    "    df_2012['silver_medal']=df_2012['Medal'].apply(lambda x: 1 if x=='Silver' else 0)\n",
    "    df_2012['bronze_medal']=df_2012['Medal'].apply(lambda x: 1 if x=='Bronze' else 0)\n",
    "    df_2012 = df_2012.rename({'Country': 'country_code'}, axis=1)\n",
    "    df_2012 = df_2012[['Year', 'country_code', 'gold_medal', 'silver_medal', 'bronze_medal']]\n",
    "\n",
    "    df_temp= pd.DataFrame()\n",
    "    for year in years:\n",
    "        temp = df_2012[df_2012.Year == year][['country_code', 'gold_medal', 'silver_medal', 'bronze_medal']]\n",
    "        temp = temp.groupby('country_code').agg(sum)\n",
    "        temp = temp.reset_index(drop=False)\n",
    "        temp.insert(0, 'year', year)\n",
    "        temp['total'] = temp['gold_medal'] + temp['silver_medal'] + temp['bronze_medal']\n",
    "        df_temp = pd.concat([df_temp, temp])\n",
    "\n",
    "    # concatinating all the dataframes\n",
    "    df = pd.concat([df_temp, df_2016, df_2020], axis=0)\n",
    "    \n",
    "    return df\n",
    "\n",
    "if __name__ == \"__main__\":\n",
    "    print(forecasting())"
   ]
  },
  {
   "cell_type": "code",
   "execution_count": 4,
   "metadata": {},
   "outputs": [
    {
     "output_type": "execute_result",
     "data": {
      "text/plain": [
       "              gold_medal  silver_medal  bronze_medal  total\n",
       "country_code                                               \n",
       "AFG                    0             0             2      2\n",
       "AHO                    0             1             0      1\n",
       "ALB                    0             0             0      0\n",
       "ALG                    5             4             8     17\n",
       "AND                    0             0             0      0"
      ],
      "text/html": "<div>\n<style scoped>\n    .dataframe tbody tr th:only-of-type {\n        vertical-align: middle;\n    }\n\n    .dataframe tbody tr th {\n        vertical-align: top;\n    }\n\n    .dataframe thead th {\n        text-align: right;\n    }\n</style>\n<table border=\"1\" class=\"dataframe\">\n  <thead>\n    <tr style=\"text-align: right;\">\n      <th></th>\n      <th>gold_medal</th>\n      <th>silver_medal</th>\n      <th>bronze_medal</th>\n      <th>total</th>\n    </tr>\n    <tr>\n      <th>country_code</th>\n      <th></th>\n      <th></th>\n      <th></th>\n      <th></th>\n    </tr>\n  </thead>\n  <tbody>\n    <tr>\n      <th>AFG</th>\n      <td>0</td>\n      <td>0</td>\n      <td>2</td>\n      <td>2</td>\n    </tr>\n    <tr>\n      <th>AHO</th>\n      <td>0</td>\n      <td>1</td>\n      <td>0</td>\n      <td>1</td>\n    </tr>\n    <tr>\n      <th>ALB</th>\n      <td>0</td>\n      <td>0</td>\n      <td>0</td>\n      <td>0</td>\n    </tr>\n    <tr>\n      <th>ALG</th>\n      <td>5</td>\n      <td>4</td>\n      <td>8</td>\n      <td>17</td>\n    </tr>\n    <tr>\n      <th>AND</th>\n      <td>0</td>\n      <td>0</td>\n      <td>0</td>\n      <td>0</td>\n    </tr>\n  </tbody>\n</table>\n</div>"
     },
     "metadata": {},
     "execution_count": 4
    }
   ],
   "source": [
    "df = pd.DataFrame(forecasting())\n",
    "\n",
    "temp = df.groupby('country_code').agg(sum)\n",
    "temp = temp[['gold_medal', 'silver_medal', 'bronze_medal', 'total']]\n",
    "temp.head()\n",
    "\n"
   ]
  },
  {
   "cell_type": "code",
   "execution_count": 7,
   "metadata": {},
   "outputs": [
    {
     "output_type": "execute_result",
     "data": {
      "text/plain": [
       "              gold_medal  silver_medal  bronze_medal  total\n",
       "country_code                                               \n",
       "USA                 1978          1316          1034   4328\n",
       "URS                 1088           724           677   2489\n",
       "GER                  482           410           497   1389\n",
       "CHN                  410           405           327   1142\n",
       "CAN                  408           365           373   1146\n",
       "...                  ...           ...           ...    ...\n",
       "TLS                    0             0             0      0\n",
       "TUV                    0             0             0      0\n",
       "VAN                    0             0             0      0\n",
       "VIN                    0             0             0      0\n",
       "YEM                    0             0             0      0\n",
       "\n",
       "[222 rows x 4 columns]"
      ],
      "text/html": "<div>\n<style scoped>\n    .dataframe tbody tr th:only-of-type {\n        vertical-align: middle;\n    }\n\n    .dataframe tbody tr th {\n        vertical-align: top;\n    }\n\n    .dataframe thead th {\n        text-align: right;\n    }\n</style>\n<table border=\"1\" class=\"dataframe\">\n  <thead>\n    <tr style=\"text-align: right;\">\n      <th></th>\n      <th>gold_medal</th>\n      <th>silver_medal</th>\n      <th>bronze_medal</th>\n      <th>total</th>\n    </tr>\n    <tr>\n      <th>country_code</th>\n      <th></th>\n      <th></th>\n      <th></th>\n      <th></th>\n    </tr>\n  </thead>\n  <tbody>\n    <tr>\n      <th>USA</th>\n      <td>1978</td>\n      <td>1316</td>\n      <td>1034</td>\n      <td>4328</td>\n    </tr>\n    <tr>\n      <th>URS</th>\n      <td>1088</td>\n      <td>724</td>\n      <td>677</td>\n      <td>2489</td>\n    </tr>\n    <tr>\n      <th>GER</th>\n      <td>482</td>\n      <td>410</td>\n      <td>497</td>\n      <td>1389</td>\n    </tr>\n    <tr>\n      <th>CHN</th>\n      <td>410</td>\n      <td>405</td>\n      <td>327</td>\n      <td>1142</td>\n    </tr>\n    <tr>\n      <th>CAN</th>\n      <td>408</td>\n      <td>365</td>\n      <td>373</td>\n      <td>1146</td>\n    </tr>\n    <tr>\n      <th>...</th>\n      <td>...</td>\n      <td>...</td>\n      <td>...</td>\n      <td>...</td>\n    </tr>\n    <tr>\n      <th>TLS</th>\n      <td>0</td>\n      <td>0</td>\n      <td>0</td>\n      <td>0</td>\n    </tr>\n    <tr>\n      <th>TUV</th>\n      <td>0</td>\n      <td>0</td>\n      <td>0</td>\n      <td>0</td>\n    </tr>\n    <tr>\n      <th>VAN</th>\n      <td>0</td>\n      <td>0</td>\n      <td>0</td>\n      <td>0</td>\n    </tr>\n    <tr>\n      <th>VIN</th>\n      <td>0</td>\n      <td>0</td>\n      <td>0</td>\n      <td>0</td>\n    </tr>\n    <tr>\n      <th>YEM</th>\n      <td>0</td>\n      <td>0</td>\n      <td>0</td>\n      <td>0</td>\n    </tr>\n  </tbody>\n</table>\n<p>222 rows × 4 columns</p>\n</div>"
     },
     "metadata": {},
     "execution_count": 7
    }
   ],
   "source": [
    "temp.sort_values(['gold_medal', 'silver_medal', 'bronze_medal'], ascending= False)"
   ]
  },
  {
   "cell_type": "code",
   "execution_count": 13,
   "metadata": {},
   "outputs": [
    {
     "output_type": "execute_result",
     "data": {
      "text/plain": [
       "              gold_medal  silver_medal  bronze_medal  total\n",
       "country_code                                               \n",
       "AFG                    0             0             2      2\n",
       "BDI                    1             1             0      2\n",
       "BER                    1             0             1      2\n",
       "IOA                    1             0             1      2\n",
       "MKD                    0             1             1      2\n",
       "MOZ                    1             0             1      2\n",
       "NIG                    0             1             1      2\n",
       "SRI                    0             2             0      2\n",
       "SUR                    1             0             1      2\n",
       "TAN                    0             2             0      2\n",
       "UAE                    1             0             1      2\n",
       "ZAM                    0             1             1      2"
      ],
      "text/html": "<div>\n<style scoped>\n    .dataframe tbody tr th:only-of-type {\n        vertical-align: middle;\n    }\n\n    .dataframe tbody tr th {\n        vertical-align: top;\n    }\n\n    .dataframe thead th {\n        text-align: right;\n    }\n</style>\n<table border=\"1\" class=\"dataframe\">\n  <thead>\n    <tr style=\"text-align: right;\">\n      <th></th>\n      <th>gold_medal</th>\n      <th>silver_medal</th>\n      <th>bronze_medal</th>\n      <th>total</th>\n    </tr>\n    <tr>\n      <th>country_code</th>\n      <th></th>\n      <th></th>\n      <th></th>\n      <th></th>\n    </tr>\n  </thead>\n  <tbody>\n    <tr>\n      <th>AFG</th>\n      <td>0</td>\n      <td>0</td>\n      <td>2</td>\n      <td>2</td>\n    </tr>\n    <tr>\n      <th>BDI</th>\n      <td>1</td>\n      <td>1</td>\n      <td>0</td>\n      <td>2</td>\n    </tr>\n    <tr>\n      <th>BER</th>\n      <td>1</td>\n      <td>0</td>\n      <td>1</td>\n      <td>2</td>\n    </tr>\n    <tr>\n      <th>IOA</th>\n      <td>1</td>\n      <td>0</td>\n      <td>1</td>\n      <td>2</td>\n    </tr>\n    <tr>\n      <th>MKD</th>\n      <td>0</td>\n      <td>1</td>\n      <td>1</td>\n      <td>2</td>\n    </tr>\n    <tr>\n      <th>MOZ</th>\n      <td>1</td>\n      <td>0</td>\n      <td>1</td>\n      <td>2</td>\n    </tr>\n    <tr>\n      <th>NIG</th>\n      <td>0</td>\n      <td>1</td>\n      <td>1</td>\n      <td>2</td>\n    </tr>\n    <tr>\n      <th>SRI</th>\n      <td>0</td>\n      <td>2</td>\n      <td>0</td>\n      <td>2</td>\n    </tr>\n    <tr>\n      <th>SUR</th>\n      <td>1</td>\n      <td>0</td>\n      <td>1</td>\n      <td>2</td>\n    </tr>\n    <tr>\n      <th>TAN</th>\n      <td>0</td>\n      <td>2</td>\n      <td>0</td>\n      <td>2</td>\n    </tr>\n    <tr>\n      <th>UAE</th>\n      <td>1</td>\n      <td>0</td>\n      <td>1</td>\n      <td>2</td>\n    </tr>\n    <tr>\n      <th>ZAM</th>\n      <td>0</td>\n      <td>1</td>\n      <td>1</td>\n      <td>2</td>\n    </tr>\n  </tbody>\n</table>\n</div>"
     },
     "metadata": {},
     "execution_count": 13
    }
   ],
   "source": [
    "temp[temp.total == 0]"
   ]
  },
  {
   "cell_type": "code",
   "execution_count": 10,
   "metadata": {},
   "outputs": [
    {
     "output_type": "execute_result",
     "data": {
      "text/plain": [
       "(222, 4)"
      ]
     },
     "metadata": {},
     "execution_count": 10
    }
   ],
   "source": [
    "temp.shape"
   ]
  },
  {
   "cell_type": "code",
   "execution_count": 11,
   "metadata": {},
   "outputs": [
    {
     "output_type": "execute_result",
     "data": {
      "text/plain": [
       "151"
      ]
     },
     "metadata": {},
     "execution_count": 11
    }
   ],
   "source": [
    "222-71"
   ]
  },
  {
   "cell_type": "code",
   "execution_count": null,
   "metadata": {},
   "outputs": [],
   "source": []
  }
 ]
}