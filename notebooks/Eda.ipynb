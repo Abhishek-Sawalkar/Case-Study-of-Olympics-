{
 "metadata": {
  "language_info": {
   "codemirror_mode": {
    "name": "ipython",
    "version": 3
   },
   "file_extension": ".py",
   "mimetype": "text/x-python",
   "name": "python",
   "nbconvert_exporter": "python",
   "pygments_lexer": "ipython3",
   "version": "3.7.10"
  },
  "orig_nbformat": 2,
  "kernelspec": {
   "name": "python3710jvsc74a57bd098b0a9b7b4eaaa670588a142fd0a9b87eaafe866f1db4228be72b4211d12040f",
   "display_name": "Python 3.7.10 64-bit ('conda': virtualenv)"
  }
 },
 "nbformat": 4,
 "nbformat_minor": 2,
 "cells": [
  {
   "cell_type": "code",
   "execution_count": 75,
   "metadata": {},
   "outputs": [],
   "source": [
    "import pandas as pd \n",
    "import numpy as np \n",
    "import os\n",
    "\n",
    "from utils import * \n",
    "\n",
    "df_2012_summer = pd.DataFrame(pd.read_csv(os.path.join(\"/kaggle\", Y_2012, \"summer.csv\")))\n",
    "df_2012_winter = pd.DataFrame(pd.read_csv(os.path.join(\"/kaggle\", Y_2012, \"winter.csv\")))\n",
    "df_2012 = pd.concat([df_2012_summer, df_2012_winter])\n",
    "df_2012 = df_2012.drop('Athlete', axis=1)\n",
    "df_2016 = pd.DataFrame(pd.read_csv(os.path.join(\"/kaggle\", Y_2016, \"athletes.csv\")))\n",
    "df_2020 = pd.DataFrame(pd.read_csv(os.path.join(\"/kaggle\", Y_2020, \"medals.csv\")))\n",
    "\n",
    "\n",
    "df_2016 = df_2016.rename({'nationality': 'country_code', 'gold': 'gold_medal', 'silver': 'silver_medal', 'bronze': 'bronze_medal'}, axis=1)\n",
    "df_2016 = df_2016[['country_code', 'gold_medal', 'silver_medal', 'bronze_medal']]\n",
    "df_2016 = df_2016.groupby('country_code').agg(sum)\n",
    "df_2016 = df_2016.reset_index(drop=False)\n",
    "df_2016.insert(0, 'year', 2016)\n",
    "df_2016['total'] = df_2016['gold_medal'] + df_2016['silver_medal'] + df_2016['bronze_medal']\n",
    "\n",
    "df_2020['gold_medal']=df_2020['medal_code'].apply(lambda x: 1 if x==1 else 0)\n",
    "df_2020['silver_medal']=df_2020['medal_code'].apply(lambda x: 1 if x==2 else 0)\n",
    "df_2020['bronze_medal']=df_2020['medal_code'].apply(lambda x: 1 if x==3 else 0)\n",
    "# df_2020['year'] = 2020\n",
    "df_2020 = df_2020[['country_code', 'gold_medal', 'silver_medal', 'bronze_medal']]\n",
    "df_2020 = df_2020.groupby('country_code').agg(sum)\n",
    "df_2020 = df_2020.reset_index(drop=False)\n",
    "df_2020.insert(0, 'year', 2020)\n",
    "df_2020['total'] = df_2020['gold_medal'] + df_2020['silver_medal'] + df_2020['bronze_medal']\n",
    "\n",
    "# print(f'df_2012:\\n{df_2012.head()} \\n df_2016:\\n{df_2016.head()} \\n df_2020:\\n{df_2020.head()}')"
   ]
  },
  {
   "cell_type": "code",
   "execution_count": 76,
   "metadata": {},
   "outputs": [
    {
     "output_type": "execute_result",
     "data": {
      "text/plain": [
       "   year country_code  gold_medal  silver_medal  bronze_medal  total\n",
       "0  2016          AFG           0             0             0      0\n",
       "1  2016          ALB           0             0             0      0\n",
       "2  2016          ALG           0             2             0      2\n",
       "3  2016          AND           0             0             0      0\n",
       "4  2016          ANG           0             0             0      0"
      ],
      "text/html": "<div>\n<style scoped>\n    .dataframe tbody tr th:only-of-type {\n        vertical-align: middle;\n    }\n\n    .dataframe tbody tr th {\n        vertical-align: top;\n    }\n\n    .dataframe thead th {\n        text-align: right;\n    }\n</style>\n<table border=\"1\" class=\"dataframe\">\n  <thead>\n    <tr style=\"text-align: right;\">\n      <th></th>\n      <th>year</th>\n      <th>country_code</th>\n      <th>gold_medal</th>\n      <th>silver_medal</th>\n      <th>bronze_medal</th>\n      <th>total</th>\n    </tr>\n  </thead>\n  <tbody>\n    <tr>\n      <th>0</th>\n      <td>2016</td>\n      <td>AFG</td>\n      <td>0</td>\n      <td>0</td>\n      <td>0</td>\n      <td>0</td>\n    </tr>\n    <tr>\n      <th>1</th>\n      <td>2016</td>\n      <td>ALB</td>\n      <td>0</td>\n      <td>0</td>\n      <td>0</td>\n      <td>0</td>\n    </tr>\n    <tr>\n      <th>2</th>\n      <td>2016</td>\n      <td>ALG</td>\n      <td>0</td>\n      <td>2</td>\n      <td>0</td>\n      <td>2</td>\n    </tr>\n    <tr>\n      <th>3</th>\n      <td>2016</td>\n      <td>AND</td>\n      <td>0</td>\n      <td>0</td>\n      <td>0</td>\n      <td>0</td>\n    </tr>\n    <tr>\n      <th>4</th>\n      <td>2016</td>\n      <td>ANG</td>\n      <td>0</td>\n      <td>0</td>\n      <td>0</td>\n      <td>0</td>\n    </tr>\n  </tbody>\n</table>\n</div>"
     },
     "metadata": {},
     "execution_count": 76
    }
   ],
   "source": [
    "df_2016.head()"
   ]
  },
  {
   "cell_type": "code",
   "execution_count": 77,
   "metadata": {},
   "outputs": [
    {
     "output_type": "execute_result",
     "data": {
      "text/plain": [
       "   year country_code  gold_medal  silver_medal  bronze_medal  total\n",
       "0  2020          ARG           0            18            25     43\n",
       "1  2020          ARM           0             2             2      4\n",
       "2  2020          AUS          36            27            66    129\n",
       "3  2020          AUT           1             1             5      7\n",
       "4  2020          AZE           0             3             4      7"
      ],
      "text/html": "<div>\n<style scoped>\n    .dataframe tbody tr th:only-of-type {\n        vertical-align: middle;\n    }\n\n    .dataframe tbody tr th {\n        vertical-align: top;\n    }\n\n    .dataframe thead th {\n        text-align: right;\n    }\n</style>\n<table border=\"1\" class=\"dataframe\">\n  <thead>\n    <tr style=\"text-align: right;\">\n      <th></th>\n      <th>year</th>\n      <th>country_code</th>\n      <th>gold_medal</th>\n      <th>silver_medal</th>\n      <th>bronze_medal</th>\n      <th>total</th>\n    </tr>\n  </thead>\n  <tbody>\n    <tr>\n      <th>0</th>\n      <td>2020</td>\n      <td>ARG</td>\n      <td>0</td>\n      <td>18</td>\n      <td>25</td>\n      <td>43</td>\n    </tr>\n    <tr>\n      <th>1</th>\n      <td>2020</td>\n      <td>ARM</td>\n      <td>0</td>\n      <td>2</td>\n      <td>2</td>\n      <td>4</td>\n    </tr>\n    <tr>\n      <th>2</th>\n      <td>2020</td>\n      <td>AUS</td>\n      <td>36</td>\n      <td>27</td>\n      <td>66</td>\n      <td>129</td>\n    </tr>\n    <tr>\n      <th>3</th>\n      <td>2020</td>\n      <td>AUT</td>\n      <td>1</td>\n      <td>1</td>\n      <td>5</td>\n      <td>7</td>\n    </tr>\n    <tr>\n      <th>4</th>\n      <td>2020</td>\n      <td>AZE</td>\n      <td>0</td>\n      <td>3</td>\n      <td>4</td>\n      <td>7</td>\n    </tr>\n  </tbody>\n</table>\n</div>"
     },
     "metadata": {},
     "execution_count": 77
    }
   ],
   "source": [
    "df_2020.head()"
   ]
  },
  {
   "source": [
    "# year, country, gold_medal, silver_medal, bronze_medal, total"
   ],
   "cell_type": "markdown",
   "metadata": {}
  },
  {
   "cell_type": "code",
   "execution_count": 72,
   "metadata": {},
   "outputs": [
    {
     "output_type": "execute_result",
     "data": {
      "text/plain": [
       "   index  Year    City     Sport Discipline Country Gender         Event  \\\n",
       "0   7204  1948  London  Aquatics     Diving     MEX    Men  10M Platform   \n",
       "1   7205  1948  London  Aquatics     Diving     USA    Men  10M Platform   \n",
       "2   7206  1948  London  Aquatics     Diving     USA    Men  10M Platform   \n",
       "3   7207  1948  London  Aquatics     Diving     DEN  Women  10M Platform   \n",
       "4   7208  1948  London  Aquatics     Diving     USA  Women  10M Platform   \n",
       "\n",
       "    Medal  \n",
       "0  Bronze  \n",
       "1    Gold  \n",
       "2  Silver  \n",
       "3  Bronze  \n",
       "4    Gold  "
      ],
      "text/html": "<div>\n<style scoped>\n    .dataframe tbody tr th:only-of-type {\n        vertical-align: middle;\n    }\n\n    .dataframe tbody tr th {\n        vertical-align: top;\n    }\n\n    .dataframe thead th {\n        text-align: right;\n    }\n</style>\n<table border=\"1\" class=\"dataframe\">\n  <thead>\n    <tr style=\"text-align: right;\">\n      <th></th>\n      <th>index</th>\n      <th>Year</th>\n      <th>City</th>\n      <th>Sport</th>\n      <th>Discipline</th>\n      <th>Country</th>\n      <th>Gender</th>\n      <th>Event</th>\n      <th>Medal</th>\n    </tr>\n  </thead>\n  <tbody>\n    <tr>\n      <th>0</th>\n      <td>7204</td>\n      <td>1948</td>\n      <td>London</td>\n      <td>Aquatics</td>\n      <td>Diving</td>\n      <td>MEX</td>\n      <td>Men</td>\n      <td>10M Platform</td>\n      <td>Bronze</td>\n    </tr>\n    <tr>\n      <th>1</th>\n      <td>7205</td>\n      <td>1948</td>\n      <td>London</td>\n      <td>Aquatics</td>\n      <td>Diving</td>\n      <td>USA</td>\n      <td>Men</td>\n      <td>10M Platform</td>\n      <td>Gold</td>\n    </tr>\n    <tr>\n      <th>2</th>\n      <td>7206</td>\n      <td>1948</td>\n      <td>London</td>\n      <td>Aquatics</td>\n      <td>Diving</td>\n      <td>USA</td>\n      <td>Men</td>\n      <td>10M Platform</td>\n      <td>Silver</td>\n    </tr>\n    <tr>\n      <th>3</th>\n      <td>7207</td>\n      <td>1948</td>\n      <td>London</td>\n      <td>Aquatics</td>\n      <td>Diving</td>\n      <td>DEN</td>\n      <td>Women</td>\n      <td>10M Platform</td>\n      <td>Bronze</td>\n    </tr>\n    <tr>\n      <th>4</th>\n      <td>7208</td>\n      <td>1948</td>\n      <td>London</td>\n      <td>Aquatics</td>\n      <td>Diving</td>\n      <td>USA</td>\n      <td>Women</td>\n      <td>10M Platform</td>\n      <td>Gold</td>\n    </tr>\n  </tbody>\n</table>\n</div>"
     },
     "metadata": {},
     "execution_count": 72
    }
   ],
   "source": [
    "df_2012 = df_2012[df_2012.Year>= 1948]\n",
    "df_2012 = df_2012.reset_index()\n",
    "df_2012.head()"
   ]
  }
 ]
}