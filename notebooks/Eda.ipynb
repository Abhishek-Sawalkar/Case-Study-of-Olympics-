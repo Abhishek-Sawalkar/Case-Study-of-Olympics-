{
 "metadata": {
  "language_info": {
   "codemirror_mode": {
    "name": "ipython",
    "version": 3
   },
   "file_extension": ".py",
   "mimetype": "text/x-python",
   "name": "python",
   "nbconvert_exporter": "python",
   "pygments_lexer": "ipython3",
   "version": "3.7.10"
  },
  "orig_nbformat": 2,
  "kernelspec": {
   "name": "python3710jvsc74a57bd098b0a9b7b4eaaa670588a142fd0a9b87eaafe866f1db4228be72b4211d12040f",
   "display_name": "Python 3.7.10 64-bit ('conda': virtualenv)"
  }
 },
 "nbformat": 4,
 "nbformat_minor": 2,
 "cells": [
  {
   "source": [
    "### Converting raw data to processed data"
   ],
   "cell_type": "markdown",
   "metadata": {}
  },
  {
   "cell_type": "code",
   "execution_count": 153,
   "metadata": {},
   "outputs": [
    {
     "output_type": "stream",
     "name": "stdout",
     "text": [
      "df_2020:\n",
      "    year country_code  gold_medal  silver_medal  bronze_medal  total\n",
      "0  2020          ARG           0            18            25     43\n",
      "1  2020          ARM           0             2             2      4\n",
      "2  2020          AUS          36            27            66    129\n",
      "3  2020          AUT           1             1             5      7\n",
      "4  2020          AZE           0             3             4      7\n",
      "    year country_code  gold_medal  silver_medal  bronze_medal  total\n",
      "0   1948          ARG           3             8             1     12\n",
      "1   1948          AUS           2             9             5     16\n",
      "2   1948          AUT           2             3             7     12\n",
      "3   1948          BEL           6             6             8     20\n",
      "4   1948          BRA           0             0            12     12\n",
      "..   ...          ...         ...           ...           ...    ...\n",
      "88  2020          UGA           2             1             1      4\n",
      "89  2020          UKR           1             7            21     29\n",
      "90  2020          USA         112           108            75    295\n",
      "91  2020          UZB           3             0             2      5\n",
      "92  2020          VEN           1             3             0      4\n",
      "\n",
      "[1404 rows x 6 columns]\n"
     ]
    }
   ],
   "source": [
    "import pandas as pd \n",
    "import numpy as np \n",
    "import os\n",
    "\n",
    "from utils import * \n",
    "\n",
    "def forecasting():\n",
    "\n",
    "    # reading data\n",
    "    df_2012_summer = pd.DataFrame(pd.read_csv(os.path.join(\"/kaggle\", Y_2012, \"summer.csv\")))\n",
    "    df_2012_winter = pd.DataFrame(pd.read_csv(os.path.join(\"/kaggle\", Y_2012, \"winter.csv\")))\n",
    "    df_2012 = pd.concat([df_2012_summer, df_2012_winter])\n",
    "    df_2012 = df_2012.drop('Athlete', axis=1)\n",
    "    df_2016 = pd.DataFrame(pd.read_csv(os.path.join(\"/kaggle\", Y_2016, \"athletes.csv\")))\n",
    "    df_2020 = pd.DataFrame(pd.read_csv(os.path.join(\"/kaggle\", Y_2020, \"medals.csv\")))\n",
    "\n",
    "    # 2020 data changes\n",
    "    df_2020['gold_medal']=df_2020['medal_code'].apply(lambda x: 1 if x==1 else 0)\n",
    "    df_2020['silver_medal']=df_2020['medal_code'].apply(lambda x: 1 if x==2 else 0)\n",
    "    df_2020['bronze_medal']=df_2020['medal_code'].apply(lambda x: 1 if x==3 else 0)\n",
    "    df_2020 = df_2020[['country_code', 'gold_medal', 'silver_medal', 'bronze_medal']]\n",
    "    df_2020 = df_2020.groupby('country_code').agg(sum)\n",
    "    df_2020 = df_2020.reset_index(drop=False)\n",
    "    df_2020.insert(0, 'year', 2020)\n",
    "    df_2020['total'] = df_2020['gold_medal'] + df_2020['silver_medal'] + df_2020['bronze_medal']\n",
    "    print(f'df_2020:\\n {df_2020.head()}')\n",
    "    # 2016 data changes\n",
    "    df_2016 = df_2016.rename({'nationality': 'country_code', 'gold': 'gold_medal', 'silver': 'silver_medal', 'bronze': 'bronze_medal'}, axis=1)\n",
    "    df_2016 = df_2016[['country_code', 'gold_medal', 'silver_medal', 'bronze_medal']]\n",
    "    df_2016 = df_2016.groupby('country_code').agg(sum)\n",
    "    df_2016 = df_2016.reset_index(drop=False)\n",
    "    df_2016.insert(0, 'year', 2016)\n",
    "    df_2016['total'] = df_2016['gold_medal'] + df_2016['silver_medal'] + df_2016['bronze_medal']\n",
    "\n",
    "    # 2012 data changes\n",
    "    years = df_2012[df_2012.Year >= 1948].Year.unique()\n",
    "\n",
    "    df_2012['gold_medal']=df_2012['Medal'].apply(lambda x: 1 if x=='Gold' else 0)\n",
    "    df_2012['silver_medal']=df_2012['Medal'].apply(lambda x: 1 if x=='Silver' else 0)\n",
    "    df_2012['bronze_medal']=df_2012['Medal'].apply(lambda x: 1 if x=='Bronze' else 0)\n",
    "    df_2012 = df_2012.rename({'Country': 'country_code'}, axis=1)\n",
    "    df_2012 = df_2012[['Year', 'country_code', 'gold_medal', 'silver_medal', 'bronze_medal']]\n",
    "\n",
    "    df_temp= pd.DataFrame()\n",
    "    for year in years:\n",
    "        temp = df_2012[df_2012.Year == year][['country_code', 'gold_medal', 'silver_medal', 'bronze_medal']]\n",
    "        temp = temp.groupby('country_code').agg(sum)\n",
    "        temp = temp.reset_index(drop=False)\n",
    "        temp.insert(0, 'year', year)\n",
    "        temp['total'] = temp['gold_medal'] + temp['silver_medal'] + temp['bronze_medal']\n",
    "        df_temp = pd.concat([df_temp, temp])\n",
    "\n",
    "    # concatinating all the dataframes\n",
    "    df = pd.concat([df_temp, df_2016, df_2020], axis=0)\n",
    "    \n",
    "    return df\n",
    "\n",
    "if __name__ == \"__main__\":\n",
    "    print(forecasting())"
   ]
  },
  {
   "source": [
    "## Top 150 countries will be considered"
   ],
   "cell_type": "markdown",
   "metadata": {}
  },
  {
   "cell_type": "code",
   "execution_count": 154,
   "metadata": {},
   "outputs": [
    {
     "output_type": "stream",
     "name": "stdout",
     "text": [
      "df_2020:\n    year country_code  gold_medal  silver_medal  bronze_medal  total\n0  2020          ARG           0            18            25     43\n1  2020          ARM           0             2             2      4\n2  2020          AUS          36            27            66    129\n3  2020          AUT           1             1             5      7\n4  2020          AZE           0             3             4      7\n"
     ]
    }
   ],
   "source": [
    "df = pd.DataFrame(forecasting())\n",
    "\n",
    "temp = df.groupby('country_code').agg(sum)\n",
    "temp = temp[['gold_medal', 'silver_medal', 'bronze_medal', 'total']]\n",
    "temp.head()\n",
    "\n",
    "temp = temp.sort_values(['gold_medal', 'silver_medal', 'bronze_medal'], ascending= False)\n",
    "temp = temp.reset_index(drop=False)\n",
    "\n",
    "countries_to_consider = temp['country_code'].head(100)\n",
    "countries_to_consider =list(countries_to_consider)\n",
    "countries_to_consider\n",
    "df = df[df['country_code'].isin(countries_to_consider)]"
   ]
  },
  {
   "source": [
    "## Visualization on world map"
   ],
   "cell_type": "markdown",
   "metadata": {}
  },
  {
   "cell_type": "code",
   "execution_count": 155,
   "metadata": {},
   "outputs": [],
   "source": [
    "import folium\n",
    "import geopandas as gpd\n",
    "import pandas as pd\n",
    "import branca\n",
    "\n",
    "url = (\n",
    "    \"https://raw.githubusercontent.com/python-visualization/folium/master/examples/data\"\n",
    ")\n",
    "country_shapes = f\"{url}/world-countries.json\"\n",
    "global_polygon = gpd.read_file(country_shapes)\n",
    "\n",
    "global_polygon.id =  global_polygon.id.apply(lambda x: 'DEN' if x=='DNK' else x)\n",
    "global_polygon.id =  global_polygon.id.apply(lambda x: 'IRI' if x=='IRN' else x)\n",
    "global_polygon.id =  global_polygon.id.apply(lambda x: 'NED' if x=='NLD' else x)\n",
    "global_polygon.id =  global_polygon.id.apply(lambda x: 'POR' if x=='PRT' else x)\n",
    "global_polygon.id =  global_polygon.id.apply(lambda x: 'RSA' if x=='ZAF' else x)\n",
    "global_polygon.id =  global_polygon.id.apply(lambda x: 'SUI' if x=='CHE' else x)\n",
    "global_polygon.id =  global_polygon.id.apply(lambda x: 'BUL' if x=='BGR' else x)\n",
    "global_polygon.id =  global_polygon.id.apply(lambda x: 'GER' if x=='DEU' else x)\n",
    "global_polygon.id =  global_polygon.id.apply(lambda x: 'GRE' if x=='GRC' else x)\n",
    "global_polygon.id =  global_polygon.id.apply(lambda x: 'MGL' if x=='MNG' else x)\n",
    "global_polygon.id =  global_polygon.id.apply(lambda x: 'SLO' if x=='HRV' else x)\n",
    "global_polygon.id =  global_polygon.id.apply(lambda x: 'LAT' if x=='LVA' else x)\n",
    "global_polygon.id =  global_polygon.id.apply(lambda x: 'NGR' if x=='NGA' else x)\n",
    "global_polygon.id =  global_polygon.id.apply(lambda x: 'INA' if x=='IDN' else x)\n",
    "global_polygon.id =  global_polygon.id.apply(lambda x: 'PUR' if x=='PRI' else x)\n",
    "global_polygon.id =  global_polygon.id.apply(lambda x: 'TTO' if x=='TRI' else x)\n",
    "global_polygon.id =  global_polygon.id.apply(lambda x: 'ALG' if x=='DZA' else x)\n",
    "global_polygon.id =  global_polygon.id.apply(lambda x: 'PHI' if x=='PHL' else x)\n",
    "global_polygon.id =  global_polygon.id.apply(lambda x: 'ZIM' if x=='ZWE' else x)\n",
    "global_polygon.id =  global_polygon.id.apply(lambda x: 'CRC' if x=='CRI' else x)\n",
    "global_polygon.id =  global_polygon.id.apply(lambda x: 'VIE' if x=='VNM' else x)\n",
    "global_polygon.id =  global_polygon.id.apply(lambda x: 'FIJ' if x=='FJI' else x)\n",
    "global_polygon.id =  global_polygon.id.apply(lambda x: 'KOS' if x=='-99' else x)\n",
    "global_polygon.id =  global_polygon.id.apply(lambda x: 'CRO' if x=='SLO' else x)\n",
    "\n",
    "df['id'] = df['country_code']\n",
    "df = df.merge(global_polygon, on='id', how='inner')"
   ]
  },
  {
   "cell_type": "code",
   "execution_count": 156,
   "metadata": {},
   "outputs": [
    {
     "output_type": "execute_result",
     "data": {
      "text/plain": [
       "      year country_code  gold_medal  silver_medal  bronze_medal  total   id  \\\n",
       "0     1948          ARG           3             8             1     12  ARG   \n",
       "1     1952          ARG           2             2             2      6  ARG   \n",
       "2     1956          ARG           0             1             1      2  ARG   \n",
       "3     1960          ARG           0             3             1      4  ARG   \n",
       "4     1964          ARG           0             1             0      1  ARG   \n",
       "...    ...          ...         ...           ...           ...    ...  ...   \n",
       "1086  2016          KOS           1             0             0      1  KOS   \n",
       "1087  2020          KOS           2             0             0      2  KOS   \n",
       "1088  2020          KOS           2             0             0      2  KOS   \n",
       "1089  2020          KOS           2             0             0      2  KOS   \n",
       "1090  2020          KOS           2             0             0      2  KOS   \n",
       "\n",
       "                 name                                           geometry  \n",
       "0           Argentina  MULTIPOLYGON (((-65.50000 -55.20000, -66.45000...  \n",
       "1           Argentina  MULTIPOLYGON (((-65.50000 -55.20000, -66.45000...  \n",
       "2           Argentina  MULTIPOLYGON (((-65.50000 -55.20000, -66.45000...  \n",
       "3           Argentina  MULTIPOLYGON (((-65.50000 -55.20000, -66.45000...  \n",
       "4           Argentina  MULTIPOLYGON (((-65.50000 -55.20000, -66.45000...  \n",
       "...               ...                                                ...  \n",
       "1086       Somaliland  POLYGON ((48.93813 9.45175, 48.48674 8.83763, ...  \n",
       "1087  Northern Cyprus  POLYGON ((32.73178 35.14003, 32.80247 35.14550...  \n",
       "1088           Kosovo  POLYGON ((20.76216 42.05186, 20.71731 41.84711...  \n",
       "1089   Western Sahara  POLYGON ((-8.79488 27.12070, -8.81783 27.65643...  \n",
       "1090       Somaliland  POLYGON ((48.93813 9.45175, 48.48674 8.83763, ...  \n",
       "\n",
       "[1091 rows x 9 columns]"
      ],
      "text/html": "<div>\n<style scoped>\n    .dataframe tbody tr th:only-of-type {\n        vertical-align: middle;\n    }\n\n    .dataframe tbody tr th {\n        vertical-align: top;\n    }\n\n    .dataframe thead th {\n        text-align: right;\n    }\n</style>\n<table border=\"1\" class=\"dataframe\">\n  <thead>\n    <tr style=\"text-align: right;\">\n      <th></th>\n      <th>year</th>\n      <th>country_code</th>\n      <th>gold_medal</th>\n      <th>silver_medal</th>\n      <th>bronze_medal</th>\n      <th>total</th>\n      <th>id</th>\n      <th>name</th>\n      <th>geometry</th>\n    </tr>\n  </thead>\n  <tbody>\n    <tr>\n      <th>0</th>\n      <td>1948</td>\n      <td>ARG</td>\n      <td>3</td>\n      <td>8</td>\n      <td>1</td>\n      <td>12</td>\n      <td>ARG</td>\n      <td>Argentina</td>\n      <td>MULTIPOLYGON (((-65.50000 -55.20000, -66.45000...</td>\n    </tr>\n    <tr>\n      <th>1</th>\n      <td>1952</td>\n      <td>ARG</td>\n      <td>2</td>\n      <td>2</td>\n      <td>2</td>\n      <td>6</td>\n      <td>ARG</td>\n      <td>Argentina</td>\n      <td>MULTIPOLYGON (((-65.50000 -55.20000, -66.45000...</td>\n    </tr>\n    <tr>\n      <th>2</th>\n      <td>1956</td>\n      <td>ARG</td>\n      <td>0</td>\n      <td>1</td>\n      <td>1</td>\n      <td>2</td>\n      <td>ARG</td>\n      <td>Argentina</td>\n      <td>MULTIPOLYGON (((-65.50000 -55.20000, -66.45000...</td>\n    </tr>\n    <tr>\n      <th>3</th>\n      <td>1960</td>\n      <td>ARG</td>\n      <td>0</td>\n      <td>3</td>\n      <td>1</td>\n      <td>4</td>\n      <td>ARG</td>\n      <td>Argentina</td>\n      <td>MULTIPOLYGON (((-65.50000 -55.20000, -66.45000...</td>\n    </tr>\n    <tr>\n      <th>4</th>\n      <td>1964</td>\n      <td>ARG</td>\n      <td>0</td>\n      <td>1</td>\n      <td>0</td>\n      <td>1</td>\n      <td>ARG</td>\n      <td>Argentina</td>\n      <td>MULTIPOLYGON (((-65.50000 -55.20000, -66.45000...</td>\n    </tr>\n    <tr>\n      <th>...</th>\n      <td>...</td>\n      <td>...</td>\n      <td>...</td>\n      <td>...</td>\n      <td>...</td>\n      <td>...</td>\n      <td>...</td>\n      <td>...</td>\n      <td>...</td>\n    </tr>\n    <tr>\n      <th>1086</th>\n      <td>2016</td>\n      <td>KOS</td>\n      <td>1</td>\n      <td>0</td>\n      <td>0</td>\n      <td>1</td>\n      <td>KOS</td>\n      <td>Somaliland</td>\n      <td>POLYGON ((48.93813 9.45175, 48.48674 8.83763, ...</td>\n    </tr>\n    <tr>\n      <th>1087</th>\n      <td>2020</td>\n      <td>KOS</td>\n      <td>2</td>\n      <td>0</td>\n      <td>0</td>\n      <td>2</td>\n      <td>KOS</td>\n      <td>Northern Cyprus</td>\n      <td>POLYGON ((32.73178 35.14003, 32.80247 35.14550...</td>\n    </tr>\n    <tr>\n      <th>1088</th>\n      <td>2020</td>\n      <td>KOS</td>\n      <td>2</td>\n      <td>0</td>\n      <td>0</td>\n      <td>2</td>\n      <td>KOS</td>\n      <td>Kosovo</td>\n      <td>POLYGON ((20.76216 42.05186, 20.71731 41.84711...</td>\n    </tr>\n    <tr>\n      <th>1089</th>\n      <td>2020</td>\n      <td>KOS</td>\n      <td>2</td>\n      <td>0</td>\n      <td>0</td>\n      <td>2</td>\n      <td>KOS</td>\n      <td>Western Sahara</td>\n      <td>POLYGON ((-8.79488 27.12070, -8.81783 27.65643...</td>\n    </tr>\n    <tr>\n      <th>1090</th>\n      <td>2020</td>\n      <td>KOS</td>\n      <td>2</td>\n      <td>0</td>\n      <td>0</td>\n      <td>2</td>\n      <td>KOS</td>\n      <td>Somaliland</td>\n      <td>POLYGON ((48.93813 9.45175, 48.48674 8.83763, ...</td>\n    </tr>\n  </tbody>\n</table>\n<p>1091 rows × 9 columns</p>\n</div>"
     },
     "metadata": {},
     "execution_count": 156
    }
   ],
   "source": [
    "df"
   ]
  },
  {
   "cell_type": "code",
   "execution_count": 157,
   "metadata": {},
   "outputs": [],
   "source": [
    "# df.to_csv('df.csv')"
   ]
  },
  {
   "cell_type": "code",
   "execution_count": 214,
   "metadata": {},
   "outputs": [
    {
     "output_type": "execute_result",
     "data": {
      "text/plain": [
       "'Olympics was not held at this year'"
      ]
     },
     "metadata": {},
     "execution_count": 214
    }
   ],
   "source": [
    "def visualize(year=\"whole\"):\n",
    "    if year==\"whole\":\n",
    "        temp = df[['gold_medal', 'silver_medal', 'bronze_medal', 'total', 'country_code']].groupby('country_code').agg(sum)\n",
    "        temp = temp.reset_index(drop=False)\n",
    "        temp['id'] = temp['country_code']\n",
    "        temp = temp.merge(global_polygon, on='id', how='inner')\n",
    "        Temp = gpd.GeoDataFrame(temp)\n",
    "\n",
    "    elif(len(df[df.year==int(year)])==0):\n",
    "        return \"Olympics was not held at this year\"\n",
    "    \n",
    "    else:\n",
    "        Temp = gpd.GeoDataFrame(df[df.year==int(year)])\n",
    "\n",
    "    \n",
    "\n",
    "    def rd2(x):\n",
    "        return round(x, 2)\n",
    "\n",
    "    minimum, maximum = Temp[\"total\"].quantile([0.05, 0.95])\n",
    "    mean = round(Temp[\"total\"].mean(), 2)\n",
    "\n",
    "\n",
    "    colormap = branca.colormap.LinearColormap(\n",
    "        # colors=[\"#f2f0f7\", \"#cbc9e2\", \"#9e9ac8\", \"#756bb1\", \"#54278f\"],\n",
    "        colors=[\"#b4ffe6\", \"#3fffbf\", \"#04ffab\", \"#00dc92\", \"#007a51\"],\n",
    "        index=Temp[\"total\"].quantile([0.25, 0.5, 0.85, 0.95]),\n",
    "        vmin=minimum,\n",
    "        vmax=maximum,\n",
    "    )\n",
    "    colormap.caption = \"Total medals\"\n",
    "\n",
    "\n",
    "    def style_function(x):\n",
    "        return {\n",
    "            \"fillColor\": colormap(x[\"properties\"][\"total\"]),\n",
    "            \"color\": \"black\",\n",
    "            \"weight\": 2,\n",
    "            \"fillOpacity\": 0.8,\n",
    "        }\n",
    "\n",
    "    m = folium.Map(location=[26.8206, 30.8025], zoom_start=2.2)\n",
    "\n",
    "    Map_Layer = folium.GeoJson(\n",
    "        Temp,\n",
    "        name=\"Hosted\",\n",
    "        style_function=style_function,\n",
    "        tooltip=folium.GeoJsonTooltip(\n",
    "            fields=[\"name\",\"total\",\"gold_medal\",\"silver_medal\",\"bronze_medal\"], aliases=[\"name\",\"Total\",\"Gold\",\"Silver\", \"Bronze\"], localize=True\n",
    "        ),\n",
    "    ).add_to(m)\n",
    "\n",
    "    return m\n",
    "\n",
    "visualize()"
   ]
  },
  {
   "cell_type": "code",
   "execution_count": 176,
   "metadata": {},
   "outputs": [
    {
     "output_type": "execute_result",
     "data": {
      "text/plain": [
       "0.25      4.0\n",
       "0.50      9.5\n",
       "0.85     62.5\n",
       "0.95    131.0\n",
       "Name: total, dtype: float64"
      ]
     },
     "metadata": {},
     "execution_count": 176
    }
   ],
   "source": [
    "# Segregation of data according to 2020 Olympics using quantile\n",
    "df[df[\"year\"]==2020]['total'].quantile([0.25, 0.5, 0.85, 0.95])"
   ]
  },
  {
   "cell_type": "code",
   "execution_count": 208,
   "metadata": {},
   "outputs": [
    {
     "output_type": "execute_result",
     "data": {
      "text/plain": [
       "<function gc.collect(generation=2)>"
      ]
     },
     "metadata": {},
     "execution_count": 208
    }
   ],
   "source": [
    "import gc\n",
    "\n",
    "del df\n",
    "gc.collect"
   ]
  },
  {
   "cell_type": "code",
   "execution_count": null,
   "metadata": {},
   "outputs": [],
   "source": []
  }
 ]
}